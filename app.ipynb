{
 "cells": [
  {
   "cell_type": "code",
   "execution_count": 1,
   "id": "a778655e",
   "metadata": {},
   "outputs": [],
   "source": [
    "#import libraries\n",
    "import numpy as np\n",
    "from flask import Flask, request, jsonify, render_template\n",
    "import pickle\n",
    "import pandas as pd\n",
    "import numpy as np\n",
    "import time\n",
    "import overpy\n",
    "from haversine import haversine, Unit \n",
    "import warnings\n",
    "warnings.filterwarnings('ignore')"
   ]
  },
  {
   "cell_type": "code",
   "execution_count": 23,
   "id": "7ca462fd",
   "metadata": {},
   "outputs": [],
   "source": []
  },
  {
   "cell_type": "code",
   "execution_count": 25,
   "id": "3254b91a",
   "metadata": {},
   "outputs": [
    {
     "data": {
      "text/plain": [
       "26444886.977974515"
      ]
     },
     "execution_count": 25,
     "metadata": {},
     "output_type": "execute_result"
    }
   ],
   "source": [
    "predict_price('2nd Stage Nagarbhavi',2000,2,2)"
   ]
  },
  {
   "cell_type": "code",
   "execution_count": null,
   "id": "5f4ba581",
   "metadata": {},
   "outputs": [],
   "source": []
  },
  {
   "cell_type": "code",
   "execution_count": 35,
   "id": "ea9dd4d9",
   "metadata": {},
   "outputs": [
    {
     "name": "stdout",
     "output_type": "stream",
     "text": [
      " * Serving Flask app \"__main__\" (lazy loading)\n",
      " * Environment: production\n",
      "\u001b[31m   WARNING: This is a development server. Do not use it in a production deployment.\u001b[0m\n",
      "\u001b[2m   Use a production WSGI server instead.\u001b[0m\n",
      " * Debug mode: off\n"
     ]
    },
    {
     "name": "stderr",
     "output_type": "stream",
     "text": [
      " * Running on http://127.0.0.1:5000/ (Press CTRL+C to quit)\n",
      "127.0.0.1 - - [21/Nov/2022 14:02:29] \"GET / HTTP/1.1\" 200 -\n",
      "127.0.0.1 - - [21/Nov/2022 14:02:29] \"GET /home_show.webp HTTP/1.1\" 404 -\n",
      "127.0.0.1 - - [21/Nov/2022 14:02:29] \"GET /homebg.webp HTTP/1.1\" 404 -\n",
      "127.0.0.1 - - [21/Nov/2022 14:02:38] \"POST /predict HTTP/1.1\" 200 -\n",
      "127.0.0.1 - - [21/Nov/2022 14:02:38] \"GET /home_show.webp HTTP/1.1\" 404 -\n",
      "127.0.0.1 - - [21/Nov/2022 14:02:39] \"GET /homebg.webp HTTP/1.1\" 404 -\n"
     ]
    }
   ],
   "source": [
    "#Initialize the flask App\n",
    "app = Flask(__name__, template_folder=\"templates\", static_folder='static')\n",
    "\n",
    "model11 = pickle.load(open('model_main_prop.pkl', 'rb'))\n",
    "\n",
    "#locality,total_sqft,bath,bhk\n",
    "\n",
    "train_data = pd.read_csv('train_data_3_blore.csv')\n",
    "\n",
    "X = train_data.drop(['price'],axis='columns')\n",
    "\n",
    "def predict_price(location,sqft,bath,bhk):\n",
    "    loc_index = np.where(X.columns==location)[0][0]\n",
    "    \n",
    "    x = np.zeros(len(X.columns))\n",
    "    x[0] = sqft\n",
    "    x[1] = bath\n",
    "    x[2] = bhk\n",
    "    if loc_index >=0:\n",
    "        x[loc_index] = 1\n",
    "        \n",
    "    return model11.predict([x])[0]\n",
    "\n",
    "\n",
    "@app.route('/')\n",
    "def home():\n",
    "\n",
    "    return render_template('index1.html')\n",
    "\n",
    "\n",
    "#To use the predict button in our web-app\n",
    "@app.route('/predict',methods=['POST'])\n",
    "def predict():\n",
    "    '''\n",
    "    For rendering results on HTML GUI\n",
    "    '''\n",
    "    areaa = request.form.get(\"listing_area\")\n",
    "    loca = request.form.get(\"locality_name\")\n",
    "    bhk = request.form.get(\"tot_BHK\")\n",
    "    baths = request.form.get(\"tot_bath\")\n",
    "\n",
    "    prediction = predict_price(loca,areaa,baths,bhk)\n",
    "    \n",
    "    output = round(prediction,2)\n",
    "    \n",
    "    return render_template('index.html', prediction_text=output, loca=loca, baths=baths, bhk = bhk, areaa= areaa)\n",
    "\n",
    "if __name__ == \"__main__\":\n",
    "    app.run()"
   ]
  },
  {
   "cell_type": "code",
   "execution_count": null,
   "id": "8ee05380",
   "metadata": {},
   "outputs": [],
   "source": []
  },
  {
   "cell_type": "code",
   "execution_count": null,
   "id": "9665e102",
   "metadata": {},
   "outputs": [],
   "source": []
  }
 ],
 "metadata": {
  "kernelspec": {
   "display_name": "Python 3 (ipykernel)",
   "language": "python",
   "name": "python3"
  },
  "language_info": {
   "codemirror_mode": {
    "name": "ipython",
    "version": 3
   },
   "file_extension": ".py",
   "mimetype": "text/x-python",
   "name": "python",
   "nbconvert_exporter": "python",
   "pygments_lexer": "ipython3",
   "version": "3.7.13"
  }
 },
 "nbformat": 4,
 "nbformat_minor": 5
}
